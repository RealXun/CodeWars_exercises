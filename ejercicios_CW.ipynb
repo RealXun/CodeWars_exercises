{
 "cells": [
  {
   "cell_type": "markdown",
   "metadata": {},
   "source": [
    "# CodeWars exercises\n",
    "\n",
    "### Level Pepa Pig\n",
    "\n",
    "1. https://www.codewars.com/kata/546e2562b03326a88e000020\n",
    "2. https://www.codewars.com/kata/5502c9e7b3216ec63c0001aa\n",
    "3. https://www.codewars.com/kata/5a6663e9fd56cb5ab800008b\n",
    "\n",
    "### Level Obi-Juan Kenobi\n",
    "\n",
    "4. https://www.codewars.com/kata/5506b230a11c0aeab3000c1f\n",
    "5. https://www.codewars.com/kata/5ae7e3f068e6445bc8000046\n",
    "6. https://www.codewars.com/kata/525f50e3b73515a6db000b83\n",
    "7. https://www.codewars.com/kata/52597aa56021e91c93000cb0\n",
    "\n",
    "### Level Master Yoda, fool you are if bright side beat you can\n",
    "\n",
    "8. https://www.codewars.com/kata/58068479c27998b11900056e\n",
    "9. https://www.codewars.com/kata/54da539698b8a2ad76000228\n",
    "10. https://www.codewars.com/kata/5202ef17a402dd033c000009\n",
    "  \n",
    "### Lord Voldemort\n",
    "\n",
    "11. https://www.codewars.com/kata/551186edce486caa61000f5c\n",
    "12. https://www.codewars.com/kata/522551eee9abb932420004a0\n",
    "  \n",
    "### One kata to rule them all, One kata to find them; One kata to bring them all and in the darkness bind them.\n",
    "\n",
    "13. https://www.codewars.com/kata/534e01fbbb17187c7e0000c6"
   ]
  },
  {
   "cell_type": "markdown",
   "metadata": {},
   "source": [
    "## Test yourself"
   ]
  },
  {
   "cell_type": "code",
   "execution_count": null,
   "metadata": {},
   "outputs": [
    {
     "ename": "",
     "evalue": "",
     "output_type": "error",
     "traceback": [
      "\u001b[1;31mRunning cells with 'Python 3.10.6 64-bit' requires ipykernel package.\n",
      "\u001b[1;31mRun the following command to install 'ipykernel' into the Python environment. \n",
      "\u001b[1;31mCommand: '/usr/bin/python3 -m pip install ipykernel -U --user --force-reinstall'"
     ]
    }
   ],
   "source": [
    "# Below your code"
   ]
  },
  {
   "cell_type": "code",
   "execution_count": null,
   "metadata": {},
   "outputs": [],
   "source": []
  }
 ],
 "metadata": {
  "kernelspec": {
   "display_name": "Python 3.7.4 64-bit",
   "language": "python",
   "name": "python3"
  },
  "language_info": {
   "name": "python",
   "version": "3.7.4"
  },
  "orig_nbformat": 4,
  "vscode": {
   "interpreter": {
    "hash": "e447912bd1abc126f1a1b02664d51750c99209b93aa0b1eb72bb880925256d69"
   }
  }
 },
 "nbformat": 4,
 "nbformat_minor": 2
}
