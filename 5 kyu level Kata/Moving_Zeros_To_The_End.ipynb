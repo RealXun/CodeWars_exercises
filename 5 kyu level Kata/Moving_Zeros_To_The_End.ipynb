{
  "cells": [
    {
      "cell_type": "markdown",
      "id": "2f299250-64a0-40bc-a5a0-034b322eb7e5",
      "metadata": {},
      "source": [
        "# Moving Zeros To The End"
      ]
    },
    {
      "cell_type": "markdown",
      "id": "77ae455d-dddb-4c25-99f0-c3c9e8aafee1",
      "metadata": {},
      "source": [
        "Write an algorithm that takes an array and moves all of the zeros to the end, preserving the order of the other elements."
      ]
    },
    {
      "cell_type": "markdown",
      "id": "6cba92d3-5332-452d-9ebb-451930dc30a5",
      "metadata": {},
      "source": [
        "```\n",
        "move_zeros([1, 0, 1, 2, 0, 1, 3]) # returns [1, 1, 2, 1, 3, 0, 0]\n",
        "```"
      ]
    },
    {
      "cell_type": "markdown",
      "id": "e098e071-fad0-41fa-bfdc-c2f84f3aa845",
      "metadata": {},
      "source": [
        "```\n",
        "Labels: ARRAYS SORTING ALGORITHMS\n",
        "```"
      ]
    },
    {
      "cell_type": "markdown",
      "id": "75c29f24-c184-42f2-8782-ceb6ace84c7f",
      "metadata": {},
      "source": [
        "### The given def is:"
      ]
    },
    {
      "cell_type": "markdown",
      "id": "3b7c73c9-5f84-475f-bba2-bba4a7e20afb",
      "metadata": {},
      "source": [
        "```\n",
        "def move_zeros(lst):\n",
        "    return lst\n",
        "```"
      ]
    },
    {
      "cell_type": "markdown",
      "id": "2f2cfff1-b3ec-4387-bc31-1cc2647615cc",
      "metadata": {},
      "source": [
        "### The given Sample Tests is:"
      ]
    },
    {
      "cell_type": "markdown",
      "id": "dcb1a0bd-3c01-471d-b153-190f6f89ee65",
      "metadata": {},
      "source": [
        "```\n",
        "import codewars_test as test\n",
        "from solution import move_zeros\n",
        "\n",
        "@test.it(\"Basic tests\")\n",
        "def youarecute():\n",
        "    test.assert_equals(move_zeros(\n",
        "        [1, 2, 0, 1, 0, 1, 0, 3, 0, 1]),\n",
        "        [1, 2, 1, 1, 3, 1, 0, 0, 0, 0])\n",
        "    test.assert_equals(move_zeros(\n",
        "        [9, 0, 0, 9, 1, 2, 0, 1, 0, 1, 0, 3, 0, 1, 9, 0, 0, 0, 0, 9]),\n",
        "        [9, 9, 1, 2, 1, 1, 3, 1, 9, 9, 0, 0, 0, 0, 0, 0, 0, 0, 0, 0])\n",
        "    test.assert_equals(move_zeros([0, 0]), [0, 0])\n",
        "    test.assert_equals(move_zeros([0]), [0])\n",
        "    test.assert_equals(move_zeros([]), [])\n",
        "```"
      ]
    },
    {
      "cell_type": "markdown",
      "id": "e39b3593-fc35-47a4-8d81-f2fd755280a3",
      "metadata": {},
      "source": [
        "### My Result"
      ]
    },
    {
      "cell_type": "code",
      "execution_count": 3,
      "id": "8890b1db-cefc-48a2-9478-3c9052eb5270",
      "metadata": {
        "trusted": true
      },
      "outputs": [
        {
          "data": {
            "text/plain": [
              "[1, 2, 1, 1, 3, 1, 0, 0, 0, 0]"
            ]
          },
          "execution_count": 3,
          "metadata": {},
          "output_type": "execute_result"
        }
      ],
      "source": [
        "def move_zeros(lst):\n",
        "    for i in lst: #for loop to go all number by number in lst\n",
        "        if i == 0: #if number found is 0\n",
        "            lst.remove(i) #remove that number\n",
        "            lst.append(i) #also add it to the en of the list lst\n",
        "        else: \n",
        "            pass #else pass\n",
        "    return lst #Return the list with the numbers\n",
        "\n",
        "move_zeros([1, 2, 0, 1, 0, 1, 0, 3, 0, 1])"
      ]
    }
  ],
  "metadata": {
    "kernelspec": {
      "display_name": "Python 3.7.4 64-bit",
      "language": "python",
      "name": "python3"
    },
    "language_info": {
      "codemirror_mode": {
        "name": "python",
        "version": 3
      },
      "file_extension": ".py",
      "mimetype": "text/x-python",
      "name": "python",
      "nbconvert_exporter": "python",
      "pygments_lexer": "ipython3",
      "version": "3.7.4"
    },
    "vscode": {
      "interpreter": {
        "hash": "e447912bd1abc126f1a1b02664d51750c99209b93aa0b1eb72bb880925256d69"
      }
    }
  },
  "nbformat": 4,
  "nbformat_minor": 5
}
