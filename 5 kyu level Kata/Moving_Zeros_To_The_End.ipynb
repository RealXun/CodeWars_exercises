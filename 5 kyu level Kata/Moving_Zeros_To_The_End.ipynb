{
  "metadata": {
    "kernelspec": {
      "name": "python",
      "display_name": "Python (Pyodide)",
      "language": "python"
    },
    "language_info": {
      "codemirror_mode": {
        "name": "python",
        "version": 3
      },
      "file_extension": ".py",
      "mimetype": "text/x-python",
      "name": "python",
      "nbconvert_exporter": "python",
      "pygments_lexer": "ipython3",
      "version": "3.8"
    }
  },
  "nbformat_minor": 5,
  "nbformat": 4,
  "cells": [
    {
      "cell_type": "markdown",
      "source": "# Moving Zeros To The End",
      "metadata": {},
      "id": "2f299250-64a0-40bc-a5a0-034b322eb7e5"
    },
    {
      "cell_type": "markdown",
      "source": "Write an algorithm that takes an array and moves all of the zeros to the end, preserving the order of the other elements.",
      "metadata": {},
      "id": "77ae455d-dddb-4c25-99f0-c3c9e8aafee1"
    },
    {
      "cell_type": "markdown",
      "source": "```\nmove_zeros([1, 0, 1, 2, 0, 1, 3]) # returns [1, 1, 2, 1, 3, 0, 0]\n```",
      "metadata": {},
      "id": "6cba92d3-5332-452d-9ebb-451930dc30a5"
    },
    {
      "cell_type": "markdown",
      "source": "```\nLabels: ARRAYS SORTING ALGORITHMS\n```",
      "metadata": {},
      "id": "e098e071-fad0-41fa-bfdc-c2f84f3aa845"
    },
    {
      "cell_type": "markdown",
      "source": "### The given def is:",
      "metadata": {},
      "id": "75c29f24-c184-42f2-8782-ceb6ace84c7f"
    },
    {
      "cell_type": "markdown",
      "source": "```\ndef move_zeros(lst):\n    return lst\n```",
      "metadata": {},
      "id": "3b7c73c9-5f84-475f-bba2-bba4a7e20afb"
    },
    {
      "cell_type": "markdown",
      "source": "### The given Sample Tests is:",
      "metadata": {},
      "id": "2f2cfff1-b3ec-4387-bc31-1cc2647615cc"
    },
    {
      "cell_type": "markdown",
      "source": "```\nimport codewars_test as test\nfrom solution import move_zeros\n\n@test.it(\"Basic tests\")\ndef youarecute():\n    test.assert_equals(move_zeros(\n        [1, 2, 0, 1, 0, 1, 0, 3, 0, 1]),\n        [1, 2, 1, 1, 3, 1, 0, 0, 0, 0])\n    test.assert_equals(move_zeros(\n        [9, 0, 0, 9, 1, 2, 0, 1, 0, 1, 0, 3, 0, 1, 9, 0, 0, 0, 0, 9]),\n        [9, 9, 1, 2, 1, 1, 3, 1, 9, 9, 0, 0, 0, 0, 0, 0, 0, 0, 0, 0])\n    test.assert_equals(move_zeros([0, 0]), [0, 0])\n    test.assert_equals(move_zeros([0]), [0])\n    test.assert_equals(move_zeros([]), [])\n```",
      "metadata": {},
      "id": "dcb1a0bd-3c01-471d-b153-190f6f89ee65"
    },
    {
      "cell_type": "markdown",
      "source": "### My Result",
      "metadata": {},
      "id": "e39b3593-fc35-47a4-8d81-f2fd755280a3"
    },
    {
      "cell_type": "code",
      "source": "def move_zeros(lst):\n    for i in lst:\n        if i == 0:\n            lst.remove(i)\n            lst.append(i)\n        else: \n            pass\n    return lst\n\nmove_zeros([1, 2, 0, 1, 0, 1, 0, 3, 0, 1])",
      "metadata": {
        "trusted": true
      },
      "execution_count": 3,
      "outputs": [
        {
          "execution_count": 3,
          "output_type": "execute_result",
          "data": {
            "text/plain": "[1, 2, 1, 1, 3, 1, 0, 0, 0, 0]"
          },
          "metadata": {}
        }
      ],
      "id": "8890b1db-cefc-48a2-9478-3c9052eb5270"
    }
  ]
}