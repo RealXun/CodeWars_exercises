{
 "cells": [
  {
   "cell_type": "markdown",
   "metadata": {},
   "source": [
    "# Square Every Digit\n",
    "\n",
    "- Welcome. In this kata, you are asked to square every digit of a number and concatenate them.\n",
    "- For example, if we run 9119 through the function, 811181 will come out, because 92 is 81 and 12 is 1.\n",
    "- Note: The function accepts an integer and returns an integer\n",
    "\n",
    "The given def is:\n",
    "\n",
    "```\n",
    "def square_digits(num):\n",
    "    pass\n",
    "```\n",
    "\n",
    "The given Sample Tests is:\n",
    "```\n",
    "import codewars_test as test\n",
    "from solution import square_digits\n",
    "\n",
    "@test.describe(\"Premade tests: \")\n",
    "def fixed_tests():\n",
    "    @test.it('Basic Test Cases')\n",
    "    def basic_test_cases():\n",
    "        test.assert_equals(square_digits(9119), 811181)\n",
    "        test.assert_equals(square_digits(0), 0)\n",
    " ```"
   ]
  },
  {
   "cell_type": "markdown",
   "metadata": {},
   "source": [
    "### My Result"
   ]
  },
  {
   "cell_type": "code",
   "execution_count": null,
   "metadata": {},
   "outputs": [],
   "source": [
    "def square_digits(num):\n",
    "    result = \"\"\n",
    "    for digits in str(num):\n",
    "        result = result + str(int(digits)**2)\n",
    "    return result"
   ]
  }
 ],
 "metadata": {
  "kernelspec": {
   "display_name": "Python 3.7.4 64-bit",
   "language": "python",
   "name": "python3"
  },
  "language_info": {
   "name": "python",
   "version": "3.7.4"
  },
  "orig_nbformat": 4,
  "vscode": {
   "interpreter": {
    "hash": "e447912bd1abc126f1a1b02664d51750c99209b93aa0b1eb72bb880925256d69"
   }
  }
 },
 "nbformat": 4,
 "nbformat_minor": 2
}
