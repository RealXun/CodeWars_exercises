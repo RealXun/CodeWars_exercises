{
  "metadata": {
    "language_info": {
      "codemirror_mode": {
        "name": "python",
        "version": 3
      },
      "file_extension": ".py",
      "mimetype": "text/x-python",
      "name": "python",
      "nbconvert_exporter": "python",
      "pygments_lexer": "ipython3",
      "version": "3.8"
    },
    "kernelspec": {
      "name": "python",
      "display_name": "Python (Pyodide)",
      "language": "python"
    }
  },
  "nbformat_minor": 4,
  "nbformat": 4,
  "cells": [
    {
      "cell_type": "markdown",
      "source": "# Create Phone Number",
      "metadata": {}
    },
    {
      "cell_type": "markdown",
      "source": "Write a function that accepts an array of 10 integers (between 0 and 9), that returns a string of those numbers in the form of a phone number.",
      "metadata": {}
    },
    {
      "cell_type": "markdown",
      "source": "````\ncreate_phone_number([1, 2, 3, 4, 5, 6, 7, 8, 9, 0]) # => returns \"(123) 456-7890\"\n````",
      "metadata": {}
    },
    {
      "cell_type": "markdown",
      "source": "The returned format must be correct in order to complete this challenge.\n\nDon't forget the space after the closing parentheses!",
      "metadata": {}
    },
    {
      "cell_type": "markdown",
      "source": "### The given def is:",
      "metadata": {}
    },
    {
      "cell_type": "markdown",
      "source": "````\ndef create_phone_number(n):\n    #your code here\n````",
      "metadata": {}
    },
    {
      "cell_type": "markdown",
      "source": "### The given Sample Tests is:",
      "metadata": {}
    },
    {
      "cell_type": "markdown",
      "source": "````\nimport codewars_test as test\nfrom solution import create_phone_number\n\n@test.describe(\"Create Phone Number\")\ndef fixed_tests():\n    @test.it('Basic Test Cases')\n    def basic_test_cases():\n        test.assert_equals(create_phone_number([1, 2, 3, 4, 5, 6, 7, 8, 9, 0]), \"(123) 456-7890\")\n        test.assert_equals(create_phone_number([1, 1, 1, 1, 1, 1, 1, 1, 1, 1]), \"(111) 111-1111\")\n        test.assert_equals(create_phone_number([1, 2, 3, 4, 5, 6, 7, 8, 9, 0]), \"(123) 456-7890\")\n        test.assert_equals(create_phone_number([0, 2, 3, 0, 5, 6, 0, 8, 9, 0]), \"(023) 056-0890\")\n        test.assert_equals(create_phone_number([0, 0, 0, 0, 0, 0, 0, 0, 0, 0]), \"(000) 000-0000\")\n````",
      "metadata": {}
    },
    {
      "cell_type": "markdown",
      "source": "### My Result",
      "metadata": {}
    },
    {
      "cell_type": "code",
      "source": "def create_phone_number(n):\n    part = \"\".join(map(str, n)) # we can use Map instead of a For Loop (for i in n: str(i))\n    return \"({}) {}-{}\".format(part[0:3], part[3:6], part[6:10])\n\n\ncreate_phone_number([1, 2, 3, 4, 5, 6, 7, 8, 9, 0])",
      "metadata": {
        "trusted": true
      },
      "execution_count": 2,
      "outputs": [
        {
          "execution_count": 2,
          "output_type": "execute_result",
          "data": {
            "text/plain": "'(123) 456-7890'"
          },
          "metadata": {}
        }
      ]
    }
  ]
}