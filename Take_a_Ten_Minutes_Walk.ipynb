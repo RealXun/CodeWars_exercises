{
 "cells": [
  {
   "cell_type": "code",
   "execution_count": null,
   "metadata": {},
   "outputs": [],
   "source": [
    "def is_valid_walk(walk):\n",
    "    '''Returns whether a walk is equal to 10 minuts based on directions travelled\n",
    "    and number of increments'''\n",
    "    walking =  walk.count('n') == walk.count('s') and walk.count('e') == walk.count('w')\n",
    "    length = len(walk) == 10\n",
    "    return walking and length"
   ]
  }
 ],
 "metadata": {
  "language_info": {
   "name": "python"
  },
  "orig_nbformat": 4
 },
 "nbformat": 4,
 "nbformat_minor": 2
}
