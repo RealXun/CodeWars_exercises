{
 "cells": [
  {
   "cell_type": "markdown",
   "metadata": {},
   "source": [
    "# Convert number to reversed array of digits"
   ]
  },
  {
   "cell_type": "markdown",
   "metadata": {},
   "source": [
    "Given a random non-negative number, you have to return the digits of this number within an array in reverse order."
   ]
  },
  {
   "cell_type": "markdown",
   "metadata": {},
   "source": [
    "Example(Input => Output):\n",
    "```\n",
    "35231 => [1,3,2,5,3]\n",
    "0 => [0]\n",
    "```"
   ]
  },
  {
   "cell_type": "markdown",
   "metadata": {},
   "source": [
    "```\n",
    "Labels: ARRAYS FUNDAMENTALS\n",
    "```"
   ]
  },
  {
   "cell_type": "markdown",
   "metadata": {},
   "source": [
    "### The given def is:"
   ]
  },
  {
   "cell_type": "markdown",
   "metadata": {},
   "source": [
    "```\n",
    "def digitize(n):\n",
    "\n",
    "    return \n",
    "```"
   ]
  },
  {
   "cell_type": "markdown",
   "metadata": {},
   "source": [
    "### The given Sample Tests is:"
   ]
  },
  {
   "cell_type": "markdown",
   "metadata": {},
   "source": [
    "```\n",
    "import codewars_test as test\n",
    "from solution import digitize\n",
    "\n",
    "@test.describe(\"Fixed Tests\")\n",
    "def basic_tests():\n",
    "    @test.it('Basic Test Cases')\n",
    "    def basic_test_cases():\n",
    "        test.assert_equals(digitize(35231),[1,3,2,5,3])\n",
    "        test.assert_equals(digitize(0),[0])\n",
    "        test.assert_equals(digitize(23582357),[7,5,3,2,8,5,3,2])\n",
    "        test.assert_equals(digitize(984764738),[8,3,7,4,6,7,4,8,9])\n",
    "        test.assert_equals(digitize(45762893920),[0,2,9,3,9,8,2,6,7,5,4])\n",
    "        test.assert_equals(digitize(548702838394),[4,9,3,8,3,8,2,0,7,8,4,5])\n",
    "\n",
    "```"
   ]
  },
  {
   "cell_type": "markdown",
   "metadata": {},
   "source": [
    "### My Result"
   ]
  },
  {
   "cell_type": "code",
   "execution_count": null,
   "metadata": {},
   "outputs": [],
   "source": [
    "def digitize(n):\n",
    "    print(\"The Given number id: \\n\", n)\n",
    "    number_list = [int(number) for number in str(n)] #Convert the string into a list \n",
    "    print(\"List of numbers is: \\n\",number_list)\n",
    "    reversed=number_list[::-1] #this reverse the order\n",
    "    print(\"The reverse list of numbers is: \\n\",reversed)\n",
    "    return reversed"
   ]
  }
 ],
 "metadata": {
  "kernelspec": {
   "display_name": "Python 3.7.4 64-bit",
   "language": "python",
   "name": "python3"
  },
  "language_info": {
   "codemirror_mode": {
    "name": "ipython",
    "version": 3
   },
   "file_extension": ".py",
   "mimetype": "text/x-python",
   "name": "python",
   "nbconvert_exporter": "python",
   "pygments_lexer": "ipython3",
   "version": "3.7.4"
  },
  "orig_nbformat": 4,
  "vscode": {
   "interpreter": {
    "hash": "e447912bd1abc126f1a1b02664d51750c99209b93aa0b1eb72bb880925256d69"
   }
  }
 },
 "nbformat": 4,
 "nbformat_minor": 2
}
