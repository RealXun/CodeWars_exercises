{
 "cells": [
  {
   "cell_type": "markdown",
   "metadata": {},
   "source": [
    "# See You Next Happy Year"
   ]
  },
  {
   "cell_type": "markdown",
   "metadata": {},
   "source": [
    "### Scenario\n",
    "You're saying good-bye your best friend , See you next happy year .\n",
    "\n",
    "Happy Year is the year with only distinct digits , (e.g) 2018"
   ]
  },
  {
   "cell_type": "markdown",
   "metadata": {},
   "source": [
    "### Task\n",
    "Given a year, Find The next happy year or The closest year You'll see your best friend"
   ]
  },
  {
   "cell_type": "markdown",
   "metadata": {},
   "source": [
    "### Notes\n",
    "Year Of Course always Positive .\n",
    "\n",
    "Have no fear , It is guaranteed that the answer exists .\n",
    "\n",
    "It's not necessary that the year passed to the function is Happy one .\n",
    "\n",
    "Input Year with in range (1000  ≤  y  ≤  9000)"
   ]
  },
  {
   "cell_type": "markdown",
   "metadata": {},
   "source": [
    "### Input >> Output Examples:\n",
    "```\n",
    "nextHappyYear (7712) ==> return (7801)\n",
    "```\n",
    ">Explanation: As the Next closest year with only distinct digits is 7801 ."
   ]
  },
  {
   "cell_type": "markdown",
   "metadata": {},
   "source": [
    "### Input >> Output Examples:\n",
    "```\n",
    "nextHappyYear (8989) ==> return (9012)\n",
    "```\n",
    ">Explanation: As the Next closest year with only distinct digits is 9012 ."
   ]
  },
  {
   "cell_type": "markdown",
   "metadata": {},
   "source": [
    "### Input >> Output Examples:\n",
    "```\n",
    "nextHappyYear (1001) ==> return (1023)\n",
    "```\n",
    ">Explanation: As the Next closest year with only distinct digits is 1023 ."
   ]
  },
  {
   "cell_type": "markdown",
   "metadata": {},
   "source": [
    "- Playing with Numbers Series = https://www.codewars.com/collections/playing-with-numbers\n",
    "- Playing With Lists/Arrays Series = https://www.codewars.com/collections/playing-with-lists-slash-arrays\n",
    "- For More Enjoyable Katas = http://www.codewars.com/users/MrZizoScream/authored"
   ]
  },
  {
   "cell_type": "markdown",
   "metadata": {},
   "source": [
    "The given def is:\n",
    "\n",
    "```\n",
    "def next_happy_year(year):\n",
    "    #your code here\n",
    "```"
   ]
  },
  {
   "cell_type": "markdown",
   "metadata": {},
   "source": [
    "The given Sample Tests is:\n",
    "```\n",
    "import codewars_test as test\n",
    "from solution import next_happy_year\n",
    "\n",
    "@test.describe(\"Fixed Tests\")\n",
    "def fixed_tests():\n",
    "    @test.it('Basic Test Cases')\n",
    "    def basic_test_cases():\n",
    "        test.assert_equals(next_happy_year(1001),1023)\n",
    "        test.assert_equals(next_happy_year(1123),1203)\n",
    "        test.assert_equals(next_happy_year(2001),2013)\n",
    "        test.assert_equals(next_happy_year(2334),2340)\n",
    "        test.assert_equals(next_happy_year(3331),3401)\n",
    "        test.assert_equals(next_happy_year(1987),2013)\n",
    "        test.assert_equals(next_happy_year(5555),5601)\n",
    "        test.assert_equals(next_happy_year(7712),7801)\n",
    "        test.assert_equals(next_happy_year(8088),8091)\n",
    "        test.assert_equals(next_happy_year(8999),9012)\n",
    "\n",
    " ```"
   ]
  },
  {
   "cell_type": "markdown",
   "metadata": {},
   "source": [
    "### My Result"
   ]
  },
  {
   "cell_type": "code",
   "execution_count": null,
   "metadata": {},
   "outputs": [],
   "source": [
    "def next_happy_year(year):\n",
    "    #your code here"
   ]
  }
 ],
 "metadata": {
  "kernelspec": {
   "display_name": "Python 3.7.4 64-bit",
   "language": "python",
   "name": "python3"
  },
  "language_info": {
   "name": "python",
   "version": "3.7.4"
  },
  "orig_nbformat": 4,
  "vscode": {
   "interpreter": {
    "hash": "e447912bd1abc126f1a1b02664d51750c99209b93aa0b1eb72bb880925256d69"
   }
  }
 },
 "nbformat": 4,
 "nbformat_minor": 2
}
