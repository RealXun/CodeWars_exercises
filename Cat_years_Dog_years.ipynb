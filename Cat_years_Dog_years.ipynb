{
 "cells": [
  {
   "cell_type": "markdown",
   "metadata": {},
   "source": [
    "# Kata Task - Cat years, Dog years\n",
    "I have a cat and a dog.\n",
    "\n",
    "I got them at the same time as kitten/puppy. That was humanyears years ago.\n",
    "\n",
    "Return their respective ages now as [humanyears,catyears,dogyears]"
   ]
  },
  {
   "cell_type": "markdown",
   "metadata": {},
   "source": [
    "### NOTES:\n",
    "\n",
    "humanyears >= 1\n",
    "humanyears are whole numbers only"
   ]
  },
  {
   "cell_type": "markdown",
   "metadata": {},
   "source": [
    "### Cat years\n",
    "15 cat years for first year\n",
    "+9 cat years for second year\n",
    "+4 cat years for each year after that"
   ]
  },
  {
   "cell_type": "markdown",
   "metadata": {},
   "source": [
    "### Dog years\n",
    "15 dog years for first year\n",
    "+9 dog years for second year\n",
    "+5 dog years for each year after that"
   ]
  },
  {
   "cell_type": "markdown",
   "metadata": {},
   "source": [
    "### References\n",
    "\n",
    "- http://www.catster.com/cats-101/calculate-cat-age-in-cat-years\n",
    "- http://www.slate.com/articles/news_and_politics/explainer/2009/05/a_dogs_life.html"
   ]
  },
  {
   "cell_type": "markdown",
   "metadata": {},
   "source": [
    "The given def is:\n",
    "\n",
    "```\n",
    "def human_years_cat_years_dog_years(human_years):\n",
    "    # your code here\n",
    "    return [0,0,0]\n",
    "```"
   ]
  },
  {
   "cell_type": "markdown",
   "metadata": {},
   "source": [
    "The given Sample Tests is:\n",
    "```\n",
    "import codewars_test as test\n",
    "from solution import human_years_cat_years_dog_years\n",
    "\n",
    "@test.describe(\"Fixed Tests\")\n",
    "def fixed_tests():\n",
    "    @test.it(\"one\")\n",
    "    def _():\n",
    "        test.assert_equals(human_years_cat_years_dog_years(1), [1,15,15])\n",
    "    @test.it(\"two\")\n",
    "    def _():\n",
    "        test.assert_equals(human_years_cat_years_dog_years(2), [2,24,24])\n",
    "    @test.it(\"ten\")\n",
    "    def _():\n",
    "        test.assert_equals(human_years_cat_years_dog_years(10), [10,56,64])\n",
    " ```"
   ]
  },
  {
   "cell_type": "markdown",
   "metadata": {},
   "source": [
    "### My Result"
   ]
  },
  {
   "cell_type": "code",
   "execution_count": 1,
   "metadata": {},
   "outputs": [],
   "source": [
    "def human_years_cat_years_dog_years(human_years):\n",
    "    catyears = 0\n",
    "    dogyears = 0\n",
    "    if human_years == 1:\n",
    "        catyears = 15\n",
    "        dogyears = 15\n",
    "\n",
    "    elif human_years == 2:\n",
    "        catyears = 24\n",
    "        dogyears = 24\n",
    "\n",
    "    elif human_years >= 3:\n",
    "        catyears = 4*(human_years-2) + 24 \n",
    "        dogyears= 5*(human_years-2) + 24\n",
    "\n",
    "\n",
    "    return [human_years, catyears, dogyears]"
   ]
  }
 ],
 "metadata": {
  "kernelspec": {
   "display_name": "Python 3.7.4 64-bit",
   "language": "python",
   "name": "python3"
  },
  "language_info": {
   "codemirror_mode": {
    "name": "ipython",
    "version": 3
   },
   "file_extension": ".py",
   "mimetype": "text/x-python",
   "name": "python",
   "nbconvert_exporter": "python",
   "pygments_lexer": "ipython3",
   "version": "3.7.4"
  },
  "orig_nbformat": 4,
  "vscode": {
   "interpreter": {
    "hash": "e447912bd1abc126f1a1b02664d51750c99209b93aa0b1eb72bb880925256d69"
   }
  }
 },
 "nbformat": 4,
 "nbformat_minor": 2
}
